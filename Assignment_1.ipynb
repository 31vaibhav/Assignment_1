{
 "cells": [
  {
   "cell_type": "code",
   "execution_count": 16,
   "metadata": {},
   "outputs": [
    {
     "name": "stdout",
     "output_type": "stream",
     "text": [
      "enter 1st nmbr 2\n",
      "enter 2nd nmbr 5\n",
      "before swapping\n",
      "2 5\n",
      "after swapping\n",
      "5 2\n"
     ]
    }
   ],
   "source": [
    "#Wap to swap 2 nmbrs\n",
    "a=int(input(\"enter 1st nmbr \"))\n",
    "b=int(input(\"enter 2nd nmbr \"))\n",
    "print(\"before swapping\")\n",
    "print(a,b)\n",
    "a=a+b\n",
    "b=a-b\n",
    "a=a-b\n",
    "print(\"after swapping\")\n",
    "print(a,b)\n"
   ]
  },
  {
   "cell_type": "code",
   "execution_count": 1,
   "metadata": {},
   "outputs": [
    {
     "name": "stdout",
     "output_type": "stream",
     "text": [
      "Enter the nmbr 234\n",
      "234 is even nmbr\n"
     ]
    }
   ],
   "source": [
    "#wap to check the nmbr is odd or even\n",
    "a=int(input(\"Enter the nmbr \"))\n",
    "if a%2==0 :print(a,\"is even nmbr\")\n",
    "else:print(a,\"is odd nmbr\")"
   ]
  },
  {
   "cell_type": "code",
   "execution_count": 21,
   "metadata": {},
   "outputs": [
    {
     "name": "stdout",
     "output_type": "stream",
     "text": [
      "entr the nmbr of nmbrs to be printed 3\n",
      "1\n",
      "2\n",
      "3\n",
      "3\n",
      "2\n",
      "1\n"
     ]
    }
   ],
   "source": [
    "#wap to print n natural nmbrs and reverse\n",
    "n=int(input(\"entr the nmbr of nmbrs to be printed \"))\n",
    "x=n\n",
    "a=1\n",
    "while(x):\n",
    "    x=x-1\n",
    "    print(a)\n",
    "    a=a+1\n",
    "while(n):\n",
    "    n=n-1\n",
    "    a=a-1\n",
    "    print(a)"
   ]
  },
  {
   "cell_type": "code",
   "execution_count": 1,
   "metadata": {},
   "outputs": [
    {
     "name": "stdout",
     "output_type": "stream",
     "text": [
      "entr the nmbr of nmbrs to be printed 5\n",
      "first  5 natural nmbrs are \n",
      "1\n",
      "2\n",
      "3\n",
      "4\n",
      "5\n",
      "reverse of first  5 natural nmbrs are \n",
      "5\n",
      "4\n",
      "3\n",
      "2\n",
      "1\n"
     ]
    }
   ],
   "source": [
    "#wap to print n natural nmbrs and their reverse\n",
    "n=int(input(\"entr the nmbr of nmbrs to be printed \"))\n",
    "print(\"first \",n,\"natural nmbrs are \")\n",
    "for i in range(1,n+1):\n",
    "    print(i)\n",
    "print(\"reverse of first \",n,\"natural nmbrs are \")\n",
    "for i in range(n,0,-1):\n",
    "    print(i)\n",
    "     "
   ]
  },
  {
   "cell_type": "code",
   "execution_count": 39,
   "metadata": {},
   "outputs": [
    {
     "name": "stdout",
     "output_type": "stream",
     "text": [
      "entr value 64.0\n",
      "8.0\n"
     ]
    }
   ],
   "source": [
    "#wap to find square root of any nmbr\n",
    "n=float(input(\"entr value \"))\n",
    "import math\n",
    "print(math.sqrt(n))\n"
   ]
  },
  {
   "cell_type": "code",
   "execution_count": 40,
   "metadata": {},
   "outputs": [
    {
     "name": "stdout",
     "output_type": "stream",
     "text": [
      "entr radius 2\n",
      "33.49333333333333\n"
     ]
    }
   ],
   "source": [
    "#wap to print volume of a sphere\n",
    "r=float(input(\"entr radius \"))\n",
    "pi=3.14\n",
    "v=4*pi*r*r*r/3\n",
    "print(v)"
   ]
  },
  {
   "cell_type": "code",
   "execution_count": 1,
   "metadata": {},
   "outputs": [
    {
     "name": "stdout",
     "output_type": "stream",
     "text": [
      "evn nmbrs are\n",
      "2\n",
      "4\n",
      "6\n",
      "8\n",
      "10\n",
      "12\n",
      "14\n",
      "16\n",
      "18\n",
      "20\n",
      "22\n",
      "24\n",
      "26\n",
      "28\n",
      "30\n",
      "32\n",
      "34\n",
      "36\n",
      "38\n",
      "40\n",
      "42\n",
      "44\n",
      "46\n",
      "48\n",
      "50\n",
      "52\n",
      "54\n",
      "56\n",
      "58\n",
      "60\n",
      "62\n",
      "64\n",
      "66\n",
      "68\n",
      "70\n",
      "72\n",
      "74\n",
      "76\n",
      "78\n",
      "80\n",
      "82\n",
      "84\n",
      "86\n",
      "88\n",
      "90\n",
      "92\n",
      "94\n",
      "96\n",
      "98\n",
      "100\n",
      "odd nmbrs are\n",
      "1\n",
      "3\n",
      "5\n",
      "7\n",
      "9\n",
      "11\n",
      "13\n",
      "15\n",
      "17\n",
      "19\n",
      "21\n",
      "23\n",
      "25\n",
      "27\n",
      "29\n",
      "31\n",
      "33\n",
      "35\n",
      "37\n",
      "39\n",
      "41\n",
      "43\n",
      "45\n",
      "47\n",
      "49\n",
      "51\n",
      "53\n",
      "55\n",
      "57\n",
      "59\n",
      "61\n",
      "63\n",
      "65\n",
      "67\n",
      "69\n",
      "71\n",
      "73\n",
      "75\n",
      "77\n",
      "79\n",
      "81\n",
      "83\n",
      "85\n",
      "87\n",
      "89\n",
      "91\n",
      "93\n",
      "95\n",
      "97\n",
      "99\n"
     ]
    }
   ],
   "source": [
    "#wap to print odd and even nmbrs between 1 and 100\n",
    "a=1\n",
    "print(\"evn nmbrs are\")\n",
    "while(a<=100):\n",
    "    if(a%2==0):\n",
    "        print(a)\n",
    "    a=a+1\n",
    "print(\"odd nmbrs are\")\n",
    "a=1\n",
    "while(a<=100):\n",
    "    if(a%2!=0):\n",
    "        print(a)\n",
    "    a=a+1\n",
    "    "
   ]
  },
  {
   "cell_type": "code",
   "execution_count": 12,
   "metadata": {},
   "outputs": [
    {
     "name": "stdout",
     "output_type": "stream",
     "text": [
      "2\n",
      "4\n",
      "6\n",
      "8\n",
      "10\n",
      "12\n",
      "14\n",
      "16\n",
      "18\n",
      "20\n",
      "22\n",
      "24\n",
      "26\n",
      "28\n",
      "30\n",
      "32\n",
      "34\n",
      "36\n",
      "38\n",
      "40\n",
      "42\n",
      "44\n",
      "46\n",
      "48\n",
      "50\n",
      "52\n",
      "54\n",
      "56\n",
      "58\n",
      "60\n",
      "62\n",
      "64\n",
      "66\n",
      "68\n",
      "70\n",
      "72\n",
      "74\n",
      "76\n",
      "78\n",
      "80\n",
      "82\n",
      "84\n",
      "86\n",
      "88\n",
      "90\n",
      "92\n",
      "94\n",
      "96\n",
      "98\n",
      "100\n"
     ]
    }
   ],
   "source": [
    "a=1\n",
    "while(a<=100):\n",
    "    if(a%2==0):print(a)\n",
    "    a=a+1"
   ]
  },
  {
   "cell_type": "code",
   "execution_count": 5,
   "metadata": {},
   "outputs": [
    {
     "name": "stdout",
     "output_type": "stream",
     "text": [
      "entr a 4\n",
      "entr b 8\n",
      "entr c 1\n",
      "roots are real and are  -2.1435935394489825 -29.856406460551018\n"
     ]
    }
   ],
   "source": [
    "#wap to compute roots of a quadratic equation\n",
    "a=int(input(\"entr a \"))\n",
    "b=int(input(\"entr b \"))\n",
    "c=int(input(\"entr c \"))\n",
    "import math\n",
    "d=b*b-4*a*c\n",
    "if d>0:\n",
    "    m=(-b+math.sqrt(d))/2*a\n",
    "    n=(-b-math.sqrt(d))/2*a\n",
    "    print(\"roots are real and are \",m,n)\n",
    "elif d==0:\n",
    "    m=-b/2*a\n",
    "    print(\"roots are real and equal and are \",m ,m)\n",
    "else:\n",
    "    print(\"roots are imaginary\")"
   ]
  },
  {
   "cell_type": "code",
   "execution_count": 3,
   "metadata": {},
   "outputs": [
    {
     "name": "stdout",
     "output_type": "stream",
     "text": [
      "entr n 4656564754\n",
      "10\n"
     ]
    }
   ],
   "source": [
    "#wap to count nmbr of digits in a nmbr entered by user\n",
    "n=int(input(\"entr n \"))\n",
    "count=1\n",
    "while n>10:\n",
    "    count=count+1\n",
    "    n=n/10\n",
    "print(count)\n"
   ]
  },
  {
   "cell_type": "code",
   "execution_count": 17,
   "metadata": {},
   "outputs": [
    {
     "name": "stdout",
     "output_type": "stream",
     "text": [
      "entr the nmbr 4\n",
      "False\n"
     ]
    }
   ],
   "source": [
    "#Wap to check a number is prime or not\n",
    "num=int(input(\"entr the nmbr \"))\n",
    "count=0\n",
    "for i in range(2,num//2+1,1):\n",
    "    if(num%i==0):\n",
    "        count=1\n",
    "        break\n",
    "if count==1:\n",
    "    print(\"False\")\n",
    "else:\n",
    "    print(\"True\")"
   ]
  },
  {
   "cell_type": "markdown",
   "metadata": {},
   "source": [
    "### Write a program that asks the user for a number n and prints the sum of the numbers 1 to n such that only multiples of three or five are considered in the sum, e.g. 3, 5, 6, 9, 10, 12, 15 for n=17."
   ]
  },
  {
   "cell_type": "code",
   "execution_count": 23,
   "metadata": {},
   "outputs": [
    {
     "name": "stdout",
     "output_type": "stream",
     "text": [
      "entr n 17\n",
      "Sum = 60\n"
     ]
    }
   ],
   "source": [
    "n=int(input(\"entr n \"))\n",
    "sum=0\n",
    "for i in range(1,n+1):\n",
    "    if(i%3==0 or i%5==0):\n",
    "        sum = sum +i\n",
    "print(\"Sum =\",sum)\n"
   ]
  },
  {
   "cell_type": "markdown",
   "metadata": {},
   "source": [
    "### Write a program that asks the user for a number n and gives them the possibility to choose between computing the sum and computing the product of 1,…,n."
   ]
  },
  {
   "cell_type": "code",
   "execution_count": 7,
   "metadata": {},
   "outputs": [
    {
     "name": "stdout",
     "output_type": "stream",
     "text": [
      "entr n 4\n",
      "entr a for add and m for multiply m\n",
      "24\n"
     ]
    }
   ],
   "source": [
    "n=int(input(\"entr n \"))\n",
    "def add(n):\n",
    "    sum=0\n",
    "    for i in range(1,n+1):\n",
    "        sum=sum+i\n",
    "    return sum\n",
    "def mul(n):\n",
    "    product=1\n",
    "    for i in range(1,n+1):\n",
    "        product=product*i\n",
    "    return product\n",
    "c=str(input(\"entr a for add and m for multiply \"))\n",
    "if c=='a':\n",
    "    print(add(n))\n",
    "elif c=='m':\n",
    "    print(mul(n))\n",
    "else:\n",
    "    print(\"incrrct choice 1\")"
   ]
  },
  {
   "cell_type": "markdown",
   "metadata": {},
   "source": [
    "### Find the sum of all the multiples of 3 or 5 below 1000."
   ]
  },
  {
   "cell_type": "code",
   "execution_count": 9,
   "metadata": {},
   "outputs": [
    {
     "name": "stdout",
     "output_type": "stream",
     "text": [
      "233168\n"
     ]
    }
   ],
   "source": [
    "sum=0\n",
    "for i in range(1,1000):\n",
    "    if i%3==0 or i%5==0:\n",
    "        sum = sum +i\n",
    "print(sum)"
   ]
  },
  {
   "cell_type": "markdown",
   "metadata": {},
   "source": [
    "### Write a program which will find all such numbers which are divisible by 7 but are not a multiple of 5, between 2000 and 3200 (both included)."
   ]
  },
  {
   "cell_type": "code",
   "execution_count": 1,
   "metadata": {},
   "outputs": [
    {
     "name": "stdout",
     "output_type": "stream",
     "text": [
      "2002 2009 2016 2023 2037 2044 2051 2058 2072 2079 2086 2093 2107 2114 2121 2128 2142 2149 2156 2163 2177 2184 2191 2198 2212 2219 2226 2233 2247 2254 2261 2268 2282 2289 2296 2303 2317 2324 2331 2338 2352 2359 2366 2373 2387 2394 2401 2408 2422 2429 2436 2443 2457 2464 2471 2478 2492 2499 2506 2513 2527 2534 2541 2548 2562 2569 2576 2583 2597 2604 2611 2618 2632 2639 2646 2653 2667 2674 2681 2688 2702 2709 2716 2723 2737 2744 2751 2758 2772 2779 2786 2793 2807 2814 2821 2828 2842 2849 2856 2863 2877 2884 2891 2898 2912 2919 2926 2933 2947 2954 2961 2968 2982 2989 2996 3003 3017 3024 3031 3038 3052 3059 3066 3073 3087 3094 3101 3108 3122 3129 3136 3143 3157 3164 3171 3178 3192 3199 "
     ]
    }
   ],
   "source": [
    "for i in range(2000,3200,1):\n",
    "    if i%7==0 and i%5!=0:\n",
    "        print(i,end=\" \")"
   ]
  },
  {
   "cell_type": "markdown",
   "metadata": {},
   "source": [
    "### Find the difference between the sum of the squares of the first one hundred natural numbers and the square of the sum."
   ]
  },
  {
   "cell_type": "code",
   "execution_count": 11,
   "metadata": {},
   "outputs": [
    {
     "name": "stdout",
     "output_type": "stream",
     "text": [
      "328350\n",
      "24502500\n",
      "-24174150\n"
     ]
    }
   ],
   "source": [
    "n=100\n",
    "def sos(n):\n",
    "    sum=0\n",
    "    for i in range(1,n):\n",
    "        sum=sum+i**2\n",
    "#     print(\"sum of square of 100 natural nmbrs are \",sum)\n",
    "    return sum\n",
    "def sqrofsum(n):\n",
    "    summ=0\n",
    "    for i in range(1,n):\n",
    "        summ=summ+i\n",
    "        sqr=summ**2\n",
    "#     print(\"summm is \",summ)\n",
    "    return sqr\n",
    "a=sos(n)-sqrofsum(n)\n",
    "print(sos(n))\n",
    "print(sqrofsum(n))\n",
    "print(a)\n",
    "    \n",
    "        "
   ]
  },
  {
   "cell_type": "markdown",
   "metadata": {},
   "source": [
    "### Write a program that prints all prime numbers till n."
   ]
  },
  {
   "cell_type": "code",
   "execution_count": 26,
   "metadata": {},
   "outputs": [
    {
     "name": "stdout",
     "output_type": "stream",
     "text": [
      "entr n 10\n",
      "2\n",
      "3\n",
      "5\n",
      "7\n"
     ]
    }
   ],
   "source": [
    "n=int(input(\"entr n \"))\n",
    "for num in range(2,n):\n",
    "    for i in range(2,num):\n",
    "        if (num%i==0 and i!=num):\n",
    "             break\n",
    "    else:\n",
    "        print(num)"
   ]
  },
  {
   "cell_type": "markdown",
   "metadata": {},
   "source": [
    "###  Write a program which can compute the factorial of a given number"
   ]
  },
  {
   "cell_type": "code",
   "execution_count": 28,
   "metadata": {},
   "outputs": [
    {
     "name": "stdout",
     "output_type": "stream",
     "text": [
      "entr nmbr 5\n"
     ]
    },
    {
     "data": {
      "text/plain": [
       "120"
      ]
     },
     "execution_count": 28,
     "metadata": {},
     "output_type": "execute_result"
    }
   ],
   "source": [
    "n=int(input(\"entr nmbr \"))\n",
    "def fact(n):\n",
    "    if n==0 or n==1:\n",
    "        return 1\n",
    "    return n*fact(n-1)\n",
    "fact(n)"
   ]
  },
  {
   "cell_type": "markdown",
   "metadata": {},
   "source": [
    "### Write a program for printing fibonacci series till n."
   ]
  },
  {
   "cell_type": "code",
   "execution_count": 31,
   "metadata": {},
   "outputs": [
    {
     "name": "stdout",
     "output_type": "stream",
     "text": [
      "entr nmbr 4\n",
      "1\n",
      "2\n",
      "3\n",
      "5\n"
     ]
    }
   ],
   "source": [
    "num=int(input(\"entr nmbr \"))\n",
    "p=0\n",
    "n=1\n",
    "for _ in range(num):\n",
    "    p,n=n,p+n\n",
    "    print(n)"
   ]
  },
  {
   "cell_type": "markdown",
   "metadata": {},
   "source": [
    "### Wap to find lcm"
   ]
  },
  {
   "cell_type": "code",
   "execution_count": 25,
   "metadata": {},
   "outputs": [
    {
     "name": "stdout",
     "output_type": "stream",
     "text": [
      "entr nmbr : 2\n",
      "entr 2nd nmbr : 4\n",
      "4\n"
     ]
    }
   ],
   "source": [
    "def lcm(x,y):\n",
    "    if x>y:\n",
    "        num=x\n",
    "    else:\n",
    "        num=y\n",
    "    while True:\n",
    "        if (num%x==0 and num%y==0):\n",
    "            lcm=num\n",
    "            break\n",
    "        num+=1\n",
    "    return lcm\n",
    "a=int(input(\"entr nmbr : \"))\n",
    "b=int(input(\"entr 2nd nmbr : \"))\n",
    "print(lcm(a,b))"
   ]
  },
  {
   "cell_type": "markdown",
   "metadata": {},
   "source": [
    "### Wap to find factors of a nmbr"
   ]
  },
  {
   "cell_type": "code",
   "execution_count": 30,
   "metadata": {},
   "outputs": [
    {
     "name": "stdout",
     "output_type": "stream",
     "text": [
      "entr the nmbr : 8\n",
      "factors of  8 are :\n",
      "1\n",
      "2\n",
      "4\n",
      "8\n"
     ]
    }
   ],
   "source": [
    "num=int(input(\"entr the nmbr : \"))\n",
    "print(\"factors of \",num,\"are :\")\n",
    "for i in range(1,num+1):\n",
    "    if num%i==0:\n",
    "        print(i)"
   ]
  },
  {
   "cell_type": "markdown",
   "metadata": {},
   "source": [
    "### Wap to print following pattern"
   ]
  },
  {
   "cell_type": "code",
   "execution_count": 33,
   "metadata": {},
   "outputs": [
    {
     "name": "stdout",
     "output_type": "stream",
     "text": [
      "* \n",
      "* * \n",
      "* * * \n",
      "* * * * \n",
      "* * * * * \n"
     ]
    }
   ],
   "source": [
    "n=5\n",
    "for i in range(1,n+1):\n",
    "        n=\"* \" * i\n",
    "        print(n)"
   ]
  },
  {
   "cell_type": "code",
   "execution_count": 35,
   "metadata": {},
   "outputs": [
    {
     "name": "stdout",
     "output_type": "stream",
     "text": [
      "* * * * * * * \n",
      "* * * * * * \n",
      "* * * * * \n",
      "* * * * \n",
      "* * * \n",
      "* * \n",
      "* \n"
     ]
    }
   ],
   "source": [
    "for i in range(7,0,-1):\n",
    "        n=\"* \" * i\n",
    "        print(n)"
   ]
  },
  {
   "cell_type": "code",
   "execution_count": 44,
   "metadata": {},
   "outputs": [
    {
     "name": "stdout",
     "output_type": "stream",
     "text": [
      "1 \n",
      "2 2 \n",
      "3 3 3 \n",
      "4 4 4 4 \n",
      "5 5 5 5 5 \n"
     ]
    }
   ],
   "source": [
    "n=5\n",
    "for i in range(1,n+1):\n",
    "    for j in range(1,i+1):\n",
    "        print(i,end=\" \")\n",
    "    print()"
   ]
  },
  {
   "cell_type": "code",
   "execution_count": 65,
   "metadata": {},
   "outputs": [
    {
     "name": "stdout",
     "output_type": "stream",
     "text": [
      "     \n",
      "    * \n",
      "   * * \n",
      "  * * * \n",
      " * * * * \n"
     ]
    }
   ],
   "source": [
    "n=5\n",
    "for i in range(n):\n",
    "    print(\" \"*(n-i) +\"* \"*(i))"
   ]
  },
  {
   "cell_type": "code",
   "execution_count": 64,
   "metadata": {},
   "outputs": [
    {
     "name": "stdout",
     "output_type": "stream",
     "text": [
      "1 \n",
      "2 3 \n",
      "4 5 6 \n",
      "7 8 9 10 \n"
     ]
    }
   ],
   "source": [
    "n=4\n",
    "a=1\n",
    "for i in range(1,n+1):\n",
    "    for j in range(1,i+1):\n",
    "        print(a,end=\" \")\n",
    "        a+=1\n",
    "    print()"
   ]
  },
  {
   "cell_type": "code",
   "execution_count": 68,
   "metadata": {},
   "outputs": [
    {
     "name": "stdout",
     "output_type": "stream",
     "text": [
      "A \n",
      "B C \n",
      "D E F \n",
      "G H I J \n",
      "K L M N O \n"
     ]
    }
   ],
   "source": [
    "a=65\n",
    "n=5\n",
    "for i in range(1,n+1):\n",
    "    for j in range(1,i+1):\n",
    "        print(chr(a),end=\" \")\n",
    "        a+=1\n",
    "    print()"
   ]
  },
  {
   "cell_type": "code",
   "execution_count": 73,
   "metadata": {},
   "outputs": [
    {
     "name": "stdout",
     "output_type": "stream",
     "text": [
      "entr the nmbr 9\n",
      "9 + 99 + 999 + 9999 = 11106\n"
     ]
    }
   ],
   "source": [
    "n = int(input(\"entr the nmbr \"))\n",
    "a=int(\"%s\"%(n))\n",
    "b=int(\"%s%s\"%(n,n))\n",
    "c=int(\"%s%s%s\"%(n,n,n))\n",
    "d=int(\"%s%s%s%s\"%(n,n,n,n))\n",
    "print(a,\"+\",b,\"+\",c,\"+\",d,\"=\",a+b+c+d)"
   ]
  },
  {
   "cell_type": "code",
   "execution_count": null,
   "metadata": {},
   "outputs": [],
   "source": []
  },
  {
   "cell_type": "code",
   "execution_count": null,
   "metadata": {},
   "outputs": [],
   "source": []
  }
 ],
 "metadata": {
  "kernelspec": {
   "display_name": "Python 3",
   "language": "python",
   "name": "python3"
  },
  "language_info": {
   "codemirror_mode": {
    "name": "ipython",
    "version": 3
   },
   "file_extension": ".py",
   "mimetype": "text/x-python",
   "name": "python",
   "nbconvert_exporter": "python",
   "pygments_lexer": "ipython3",
   "version": "3.7.3"
  }
 },
 "nbformat": 4,
 "nbformat_minor": 2
}
